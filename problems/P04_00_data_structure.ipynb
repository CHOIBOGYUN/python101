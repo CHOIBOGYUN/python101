{
 "cells": [
  {
   "cell_type": "markdown",
   "metadata": {},
   "source": [
    "# 편-안한 단어\n",
    "\n",
    ">(QWERTY 키보드를 사용하여 타이핑을 한다고 가정할 때) '편안한 단어'는 타이핑 할 때 손을\n",
    "번갈아 칠 수 있는 단어를 말합니다.단어를 인자로 받아 그것이 '편안한 단어'인지 여부를 True/False로 반환하는 함수를 만드세요.(모든 단어는 a ~ z까지 오름차순으로 구성된 문자열입니다.)\n",
    "\n",
    ">문자 목록\n",
    "- 왼손: q, w, e, r, t, a, s, s, d, f, g, z, x, c, v, b\n",
    "- 오른손: y, u, i, o, p, h, j, k, l, n, m"
   ]
  },
  {
   "cell_type": "code",
   "execution_count": 54,
   "metadata": {},
   "outputs": [],
   "source": [
    "#내꺼 \n",
    "#여기에 코드를 작성하세요\n",
    "    \n",
    "# 왼손 만들기\n",
    "# 오른손 만들기\n",
    "# for문 통해 왼손 요소 돌리고, 그 다음 오른손 요소가 나오면 true / 반대로 오른손 요소 돌리고~\n",
    "\n",
    "# 나머지 else 는 False\n",
    "\n",
    "left = \"qwertasdfgzxcvb\"\n",
    "right = \"yuiophjklnm\"\n",
    "\n",
    "a = 0\n",
    "\n",
    "def comfortable_word(words):\n",
    "    left = \"qwertasdfgzxcvb\"\n",
    "    right = \"yuiophjklnm\"\n",
    "    \n",
    "    a = 0\n",
    "    for word in words:\n",
    "#         print(word)\n",
    "        if word in left:\n",
    "            a+=1 \n",
    "            if words[a] in right:\n",
    "                continue\n",
    "                return True\n",
    "            else:\n",
    "                return False\n",
    "                \n",
    "        if word in right:\n",
    "            a+=1\n",
    "            if words[a] in left:\n",
    "                continue\n",
    "                return True\n",
    "            else:\n",
    "                return False\n",
    "                \n",
    "            \n",
    "\n",
    "        \n"
   ]
  },
  {
   "cell_type": "code",
   "execution_count": 57,
   "metadata": {},
   "outputs": [],
   "source": [
    "#상권\n",
    "def comfortable_word(word) :\n",
    "    left, right = \"qwertasdfgzxcvb\",\"yuiophjklnm\"\n",
    "\n",
    "    l = list(left)\n",
    "    r = list(right)\n",
    "    b = len(word)\n",
    "\n",
    "    a = 0\n",
    "    for i in word :\n",
    "        if i in l :\n",
    "            a += 1\n",
    "            if a == b :\n",
    "                break\n",
    "            elif word[a] in r :\n",
    "                continue\n",
    "            else :\n",
    "                return False\n",
    "        if i in r :\n",
    "            a += 1\n",
    "            if a == b :\n",
    "                break\n",
    "            elif word[a] in l :\n",
    "                continue\n",
    "            else :\n",
    "                return False\n",
    "    return True"
   ]
  },
  {
   "cell_type": "code",
   "execution_count": 59,
   "metadata": {},
   "outputs": [],
   "source": [
    "#샘꺼\n",
    "def comfortable_word(words):\n",
    "    \n",
    "    left = \"qwertasdfgzxcvb\"\n",
    "    right = \"yuiophjklnm\"\n",
    "    \n",
    "    l = True if words[0] in left else False #왼손이 먼저니? 만드는 것\n",
    "    \n",
    "#     if words[0] in left:   # 위에 꺼랑 같은 문장\n",
    "#         l = True\n",
    "#     else:\n",
    "#         l = False\n",
    "    \n",
    "    for word in words[1:]: #첫번째꺼부터 말고 2번째 이유는 위에 왼손이 먼저니 오른손이 먼저니 이미 했으니깐\n",
    "#         print(word) 앞글자 뺴고 돌려줌\n",
    "        if (word in left) and l:\n",
    "            return False\n",
    "        if word in right and not l:\n",
    "            return False\n",
    "        l = not l\n",
    "    return True\n"
   ]
  },
  {
   "cell_type": "code",
   "execution_count": 44,
   "metadata": {},
   "outputs": [
    {
     "data": {
      "text/plain": [
       "'pple'"
      ]
     },
     "execution_count": 44,
     "metadata": {},
     "output_type": "execute_result"
    }
   ],
   "source": [
    "\"apple\"[1:]\n",
    "# 슬라이싱"
   ]
  },
  {
   "cell_type": "code",
   "execution_count": 1,
   "metadata": {},
   "outputs": [
    {
     "ename": "NameError",
     "evalue": "name 'comfortable_word' is not defined",
     "output_type": "error",
     "traceback": [
      "\u001b[1;31m---------------------------------------------------------------------------\u001b[0m",
      "\u001b[1;31mNameError\u001b[0m                                 Traceback (most recent call last)",
      "\u001b[1;32m<ipython-input-1-babc17f306e2>\u001b[0m in \u001b[0;36m<module>\u001b[1;34m\u001b[0m\n\u001b[1;32m----> 1\u001b[1;33m \u001b[0mprint\u001b[0m\u001b[1;33m(\u001b[0m\u001b[0mcomfortable_word\u001b[0m\u001b[1;33m(\u001b[0m\u001b[1;34m\"qywu\"\u001b[0m\u001b[1;33m)\u001b[0m\u001b[1;33m)\u001b[0m\u001b[1;33m\u001b[0m\u001b[1;33m\u001b[0m\u001b[0m\n\u001b[0m\u001b[0;32m      2\u001b[0m \u001b[0mprint\u001b[0m\u001b[1;33m(\u001b[0m\u001b[0mcomfortable_word\u001b[0m\u001b[1;33m(\u001b[0m\u001b[1;34m\"apple\"\u001b[0m\u001b[1;33m)\u001b[0m\u001b[1;33m)\u001b[0m\u001b[1;33m\u001b[0m\u001b[1;33m\u001b[0m\u001b[0m\n",
      "\u001b[1;31mNameError\u001b[0m: name 'comfortable_word' is not defined"
     ]
    }
   ],
   "source": [
    "print(comfortable_word(\"qywu\"))\n",
    "print(comfortable_word(\"apple\"))"
   ]
  },
  {
   "cell_type": "code",
   "execution_count": 4,
   "metadata": {},
   "outputs": [
    {
     "name": "stdout",
     "output_type": "stream",
     "text": [
      "kilometer\n",
      "KILOMETER\n"
     ]
    }
   ],
   "source": [
    "s = \"Kilometer\"\n",
    "print(s.lower())\n",
    "print(s.upper())"
   ]
  },
  {
   "cell_type": "code",
   "execution_count": null,
   "metadata": {},
   "outputs": [],
   "source": []
  },
  {
   "cell_type": "code",
   "execution_count": 61,
   "metadata": {},
   "outputs": [
    {
     "data": {
      "text/plain": [
       "True"
      ]
     },
     "execution_count": 61,
     "metadata": {},
     "output_type": "execute_result"
    }
   ],
   "source": [
    "#샘꺼 조금 더 직관적\n",
    "#여기에 코드를 작성하세요\n",
    "def comfortable_word(words):\n",
    "    left =  \"qwertasdfgzxcvb\"\n",
    "    right = \"yuiophjklnm\"\n",
    "    \n",
    "    before_hand = \"왼손\" if words[0] in left else \"오른손\"\n",
    "\n",
    "    for word in words[1:]:\n",
    "        if (word in left) and before_hand==\"왼손\":\n",
    "            return False\n",
    "        if (word in right) and before_hand==\"오른손\":\n",
    "            return False\n",
    "        before_hand = \"오른손\" if before_hand==\"왼손\" else \"왼손\"\n",
    "    return True\n",
    "\n",
    "\n",
    "comfortable_word(\"akakakakakakakaka\")"
   ]
  },
  {
   "cell_type": "markdown",
   "metadata": {},
   "source": [
    "# 달팽이는 미끌미끌\n",
    "\n",
    ">달팽이는 낮 시간 동안에 기둥을 올라갑니다. 하지만 밤에는 잠을 자면서 어느 정도의 거리만큼미끄러집니다. (낮 시간 동안 올라간 거리보다는 적게 미끄러집니다) 달팽이가 기둥의 꼭대기에 도달하는 날까지 걸리는 시간을 계산하면 됩니다.\n",
    "\n",
    "> 당신의 함수에 들어가야 하는 3개의 인자는 다음과 같습니다.\n",
    "- 기둥의 높이(미터)\n",
    "- 낮 시간 동안 달팽이가 올라가는 거리(미터)\n",
    "- 달팽이가 야간에 잠을 자는 동안 미끄러지는 거리(미터)\n",
    "\n",
    "```\n",
    "snail(100, 5, 2)\n",
    "33\n",
    "```"
   ]
  },
  {
   "cell_type": "code",
   "execution_count": 64,
   "metadata": {},
   "outputs": [],
   "source": [
    "# 여기에 코드를 작성하세요 / 코드 다시 ㅇ\n",
    "def snail(height, day, night):\n",
    "    count = 0 #몇일이 지났나가 중요해서 이걸 만듦 \n",
    "    while True: #이거는 무한히 계속 돈다 / 어떤 조건이 맞으면 return 시킨다\n",
    "        height = height - day\n",
    "        if height <= 0: #다 올라갔다는 소리\n",
    "            count += 1\n",
    "            return count\n",
    "#         height = height + night\n",
    "#         count += 1\n",
    "#         return count"
   ]
  },
  {
   "cell_type": "code",
   "execution_count": 5,
   "metadata": {},
   "outputs": [
    {
     "ename": "NameError",
     "evalue": "name 'snail' is not defined",
     "output_type": "error",
     "traceback": [
      "\u001b[1;31m---------------------------------------------------------------------------\u001b[0m",
      "\u001b[1;31mNameError\u001b[0m                                 Traceback (most recent call last)",
      "\u001b[1;32m<ipython-input-5-cd3cc11f484a>\u001b[0m in \u001b[0;36m<module>\u001b[1;34m\u001b[0m\n\u001b[1;32m----> 1\u001b[1;33m \u001b[0mprint\u001b[0m\u001b[1;33m(\u001b[0m\u001b[0msnail\u001b[0m\u001b[1;33m(\u001b[0m\u001b[1;36m100\u001b[0m\u001b[1;33m,\u001b[0m \u001b[1;36m5\u001b[0m\u001b[1;33m,\u001b[0m \u001b[1;36m2\u001b[0m\u001b[1;33m)\u001b[0m\u001b[1;33m)\u001b[0m\u001b[1;33m\u001b[0m\u001b[1;33m\u001b[0m\u001b[0m\n\u001b[0m",
      "\u001b[1;31mNameError\u001b[0m: name 'snail' is not defined"
     ]
    }
   ],
   "source": [
    "print(snail(100, 5, 2))"
   ]
  },
  {
   "cell_type": "markdown",
   "metadata": {},
   "source": [
    "- 루트 근사치 구하기"
   ]
  },
  {
   "cell_type": "code",
   "execution_count": 14,
   "metadata": {},
   "outputs": [
    {
     "data": {
      "text/plain": [
       "2.2360687255859375"
      ]
     },
     "execution_count": 14,
     "metadata": {},
     "output_type": "execute_result"
    }
   ],
   "source": [
    "def my_sqrt(n):\n",
    "    # left는 양의 정수이기에 1보다는 무조건 큼!\n",
    "    \n",
    "    left = 1\n",
    "    # n의 제곱근은 n보다 작기 떄문에 오른쪽 끝은 n으로 설정\n",
    "    right = n\n",
    "    \n",
    "    answer = 0\n",
    "    \n",
    "    # 구하려고 하는 제곱근을 제곱한 결과와 n의 차이가 0.00001보다 크면 계속 반복\n",
    "    while abs(answer**2 -n) > 0.00001:\n",
    "        #양쪽 끝의 숫자의 중간 지점을 찾는다.\n",
    "        answer = (left + right) /2 \n",
    "        # 만약 중간 answer의 제곱의 결과가 구해야 하는 n보다 수직성 상에\n",
    "        # 왼쪽에 있다면 왼쪽의 기준점을 바꿔준다.\n",
    "        \n",
    "        if answer**2 <n:\n",
    "            left = answer\n",
    "        else:\n",
    "            right = answer\n",
    "            \n",
    "    return answer\n",
    "\n",
    "my_sqrt(5)\n",
    "    "
   ]
  }
 ],
 "metadata": {
  "kernelspec": {
   "display_name": "Python 3",
   "language": "python",
   "name": "python3"
  },
  "language_info": {
   "codemirror_mode": {
    "name": "ipython",
    "version": 3
   },
   "file_extension": ".py",
   "mimetype": "text/x-python",
   "name": "python",
   "nbconvert_exporter": "python",
   "pygments_lexer": "ipython3",
   "version": "3.6.7"
  },
  "latex_envs": {
   "LaTeX_envs_menu_present": true,
   "autoclose": false,
   "autocomplete": true,
   "bibliofile": "biblio.bib",
   "cite_by": "apalike",
   "current_citInitial": 1,
   "eqLabelWithNumbers": true,
   "eqNumInitial": 1,
   "hotkeys": {
    "equation": "Ctrl-E",
    "itemize": "Ctrl-I"
   },
   "labels_anchors": false,
   "latex_user_defs": false,
   "report_style_numbering": false,
   "user_envs_cfg": false
  },
  "toc": {
   "base_numbering": 1,
   "nav_menu": {},
   "number_sections": true,
   "sideBar": true,
   "skip_h1_title": false,
   "title_cell": "Table of Contents",
   "title_sidebar": "Contents",
   "toc_cell": false,
   "toc_position": {},
   "toc_section_display": true,
   "toc_window_display": false
  }
 },
 "nbformat": 4,
 "nbformat_minor": 2
}
