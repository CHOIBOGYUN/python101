{
 "cells": [
  {
   "cell_type": "markdown",
   "metadata": {},
   "source": [
    "- 두개의 정수 n,m이 주어집니다. 반목문을 사용하지 않고 가로가 n, 세로가 m인 *로 이루어진 사각형을 출력해주세요\n",
    "\n",
    "- 예시\n",
    "    - n : 5/ m :4\n",
    "    '''\n",
    "    *****\n",
    "    *****\n",
    "    *****\n",
    "    *****\n",
    "    ''''"
   ]
  },
  {
   "cell_type": "code",
   "execution_count": null,
   "metadata": {},
   "outputs": [],
   "source": []
  },
  {
   "cell_type": "markdown",
   "metadata": {},
   "source": [
    "- 다음 딕셔너리에서 평균 점수를 구하시오\n",
    "- student = {'python':80, 'algorithm':78, 'django':95, 'flask':80}\n"
   ]
  },
  {
   "cell_type": "code",
   "execution_count": 2,
   "metadata": {},
   "outputs": [
    {
     "name": "stdout",
     "output_type": "stream",
     "text": [
      "83.25\n"
     ]
    }
   ],
   "source": [
    "student = {\n",
    "    \"python\":80,\n",
    "    \"algorithm\":78,\n",
    "    'django':95, \n",
    "    'flask':80\n",
    "}\n",
    "a=0\n",
    "\n",
    "for score in student.values():\n",
    "#     print(student[score])\n",
    "    a=a+score\n",
    "print(a/len(student))\n",
    "\n",
    "# print(sum(student.values())/ len(student))\n",
    "# 참고용"
   ]
  },
  {
   "cell_type": "code",
   "execution_count": 5,
   "metadata": {},
   "outputs": [
    {
     "name": "stdout",
     "output_type": "stream",
     "text": [
      "83.25\n"
     ]
    }
   ],
   "source": [
    "a = 0\n",
    "\n",
    "for score in student.values():\n",
    "    a+=score\n",
    "print(a/4)"
   ]
  },
  {
   "cell_type": "markdown",
   "metadata": {},
   "source": [
    "다음은 학생들의 혈액형(A,B,O,AB)에 대한 데이터 이다. \n",
    "for문을 활용하여 각 혈액형별 학생수를 구하세요 \n",
    "blood = ['A','B','O','A','B','A','AB','AB','O','A','O','AB','O'] \n"
   ]
  },
  {
   "cell_type": "code",
   "execution_count": 7,
   "metadata": {},
   "outputs": [
    {
     "ename": "IndentationError",
     "evalue": "expected an indented block (<ipython-input-7-b618792de9cb>, line 9)",
     "output_type": "error",
     "traceback": [
      "\u001b[1;36m  File \u001b[1;32m\"<ipython-input-7-b618792de9cb>\"\u001b[1;36m, line \u001b[1;32m9\u001b[0m\n\u001b[1;33m    else :\u001b[0m\n\u001b[1;37m       ^\u001b[0m\n\u001b[1;31mIndentationError\u001b[0m\u001b[1;31m:\u001b[0m expected an indented block\n"
     ]
    }
   ],
   "source": [
    " blood = ['A','B','O','A','B','A','AB','AB','O','A','O','AB','O'] \n",
    "\n",
    "# blood_dic = {}\n",
    "\n",
    "for b in blood:\n",
    "    print(b)\n",
    "    if b in blood_dict:\n",
    "        \n",
    "    else :\n",
    "        blood_dict[b] = 1\n",
    "    \n",
    "    \n",
    "    "
   ]
  },
  {
   "cell_type": "code",
   "execution_count": 8,
   "metadata": {},
   "outputs": [
    {
     "ename": "IndentationError",
     "evalue": "unexpected indent (<ipython-input-8-a6e2b6c2e56d>, line 2)",
     "output_type": "error",
     "traceback": [
      "\u001b[1;36m  File \u001b[1;32m\"<ipython-input-8-a6e2b6c2e56d>\"\u001b[1;36m, line \u001b[1;32m2\u001b[0m\n\u001b[1;33m    blood_dic[A] = A\u001b[0m\n\u001b[1;37m    ^\u001b[0m\n\u001b[1;31mIndentationError\u001b[0m\u001b[1;31m:\u001b[0m unexpected indent\n"
     ]
    }
   ],
   "source": [
    " blood = ['A','B','O','A','B','A','AB','AB','O','A','O','AB','O'] \n",
    "    blood_dic[A] = A\n",
    "    blood_dic[B] = []\n",
    "    for a in blood:\n",
    "        if A:\n",
    "            \n",
    "        "
   ]
  },
  {
   "cell_type": "markdown",
   "metadata": {},
   "source": [
    "# 상승장 ?하락장?"
   ]
  },
  {
   "cell_type": "code",
   "execution_count": 73,
   "metadata": {},
   "outputs": [
    {
     "name": "stdout",
     "output_type": "stream",
     "text": [
      "{'opening_price': '4262000', 'closing_price': '4321000', 'min_price': '4257000', 'max_price': '4379000', 'average_price': '4314072.2425', 'units_traded': '15840.35042517', 'volume_1day': '15840.35042517', 'volume_7day': '42900.61117412', 'buy_price': '4321000', 'sell_price': '4325000', '24H_fluctate': '59000', '24H_fluctate_rate': '1.38', 'date': '1546501906071'}\n",
      "122000\n",
      "상승장\n"
     ]
    }
   ],
   "source": [
    "import requests\n",
    "\n",
    "url = \"https://api.bithumb.com/public/ticker/btc\"\n",
    "data = requests.get(url).json()['data']\n",
    "print(data)\n",
    "\n",
    "# 변동폭 : 최고가와 최저가의 차이\n",
    "# 시가 : 시작가\n",
    "# 상승장 : 시가 + 변동폭 이 최고가 보다 높을 경우\n",
    "# 하락장 : 시가 + 변동폭 이 최고가 보다 낮을 경우\n",
    "# opening_price : 최근 24시간 내 시작 거래금액\n",
    "# closing_price : 최근 24시간 내 마지막 거래금액\n",
    "# min_price : 최근 24시간 내 최저 거래금액 \n",
    "# max_price : 최근 24시간 내 최고 거래금액 \n",
    "\n",
    "changes = int(data['max_price'])-int(data['min_price'])\n",
    "print(changes)\n",
    "\n",
    "start = int(data['opening_price'])\n",
    "\n",
    "if start + changes > int(data['max_price']):\n",
    "    print(\"상승장\")\n",
    "else:\n",
    "\n",
    "    print(\"하락장\")"
   ]
  },
  {
   "cell_type": "markdown",
   "metadata": {},
   "source": [
    "# 모든 코인 상증장? 하락장? 떡락??"
   ]
  },
  {
   "cell_type": "code",
   "execution_count": 1,
   "metadata": {},
   "outputs": [
    {
     "ename": "NameError",
     "evalue": "name 'requests' is not defined",
     "output_type": "error",
     "traceback": [
      "\u001b[1;31m---------------------------------------------------------------------------\u001b[0m",
      "\u001b[1;31mNameError\u001b[0m                                 Traceback (most recent call last)",
      "\u001b[1;32m<ipython-input-1-d7979c814547>\u001b[0m in \u001b[0;36m<module>\u001b[1;34m\u001b[0m\n\u001b[0;32m      1\u001b[0m \u001b[0murl\u001b[0m \u001b[1;33m=\u001b[0m \u001b[1;34m\"https://api.bithumb.com/public/ticker/all\"\u001b[0m\u001b[1;33m\u001b[0m\u001b[1;33m\u001b[0m\u001b[0m\n\u001b[1;32m----> 2\u001b[1;33m \u001b[0mdata\u001b[0m \u001b[1;33m=\u001b[0m \u001b[0mrequests\u001b[0m\u001b[1;33m.\u001b[0m\u001b[0mget\u001b[0m\u001b[1;33m(\u001b[0m\u001b[0murl\u001b[0m\u001b[1;33m)\u001b[0m\u001b[1;33m.\u001b[0m\u001b[0mjson\u001b[0m\u001b[1;33m(\u001b[0m\u001b[1;33m)\u001b[0m\u001b[1;33m[\u001b[0m\u001b[1;34m'data'\u001b[0m\u001b[1;33m]\u001b[0m\u001b[1;33m\u001b[0m\u001b[1;33m\u001b[0m\u001b[0m\n\u001b[0m\u001b[0;32m      3\u001b[0m \u001b[1;33m\u001b[0m\u001b[0m\n\u001b[0;32m      4\u001b[0m \u001b[1;32mfor\u001b[0m \u001b[0mname\u001b[0m\u001b[1;33m,\u001b[0m \u001b[0mvalue\u001b[0m \u001b[1;32min\u001b[0m \u001b[0mdata\u001b[0m\u001b[1;33m.\u001b[0m\u001b[0mitems\u001b[0m\u001b[1;33m(\u001b[0m\u001b[1;33m)\u001b[0m\u001b[1;33m:\u001b[0m\u001b[1;33m\u001b[0m\u001b[1;33m\u001b[0m\u001b[0m\n\u001b[0;32m      5\u001b[0m     \u001b[1;32mif\u001b[0m \u001b[0mtype\u001b[0m\u001b[1;33m(\u001b[0m\u001b[0mvalue\u001b[0m\u001b[1;33m)\u001b[0m \u001b[1;33m==\u001b[0m \u001b[0mtype\u001b[0m\u001b[1;33m(\u001b[0m\u001b[0mdict\u001b[0m\u001b[1;33m(\u001b[0m\u001b[1;33m)\u001b[0m\u001b[1;33m)\u001b[0m\u001b[1;33m:\u001b[0m\u001b[1;33m\u001b[0m\u001b[1;33m\u001b[0m\u001b[0m\n",
      "\u001b[1;31mNameError\u001b[0m: name 'requests' is not defined"
     ]
    }
   ],
   "source": [
    "url = \"https://api.bithumb.com/public/ticker/all\"\n",
    "data = requests.get(url).json()['data']\n",
    "\n",
    "for name, value in data.items():\n",
    "    if type(value) == type(dict()):\n",
    "        # 상승장인지 하락장인지 확인하기!!\n",
    "        changes = float(value['max_price'])-float(value['min_price'])\n",
    "        print(changes)\n",
    "\n",
    "        start = float(value['opening_price'])\n",
    "    \n",
    "\n",
    "        if start + changes > float(value['max_price']):\n",
    "            print(f\"{name} : 상승장\")\n",
    "        else:\n",
    "            print(f\"{name} :하락장\")\n",
    "    else:\n",
    "        #데이터가 없는 코인이기 때문에 다음으로 넘기기\n",
    "        continue\n",
    "        \n",
    "#     print(name)\n",
    "#     print(type(value))"
   ]
  },
  {
   "cell_type": "code",
   "execution_count": null,
   "metadata": {},
   "outputs": [],
   "source": []
  }
 ],
 "metadata": {
  "kernelspec": {
   "display_name": "Python 3",
   "language": "python",
   "name": "python3"
  },
  "language_info": {
   "codemirror_mode": {
    "name": "ipython",
    "version": 3
   },
   "file_extension": ".py",
   "mimetype": "text/x-python",
   "name": "python",
   "nbconvert_exporter": "python",
   "pygments_lexer": "ipython3",
   "version": "3.6.7"
  }
 },
 "nbformat": 4,
 "nbformat_minor": 2
}
