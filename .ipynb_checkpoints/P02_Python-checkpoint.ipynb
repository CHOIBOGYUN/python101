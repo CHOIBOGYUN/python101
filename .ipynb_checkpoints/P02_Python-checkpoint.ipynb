{
 "cells": [
  {
   "cell_type": "markdown",
   "metadata": {},
   "source": [
    "# 가상화폐 시세 판단하기"
   ]
  },
  {
   "cell_type": "markdown",
   "metadata": {},
   "source": [
    "> 최고가와 최저가의 차이를 변동폭으로 정의할 때 (시가 + 변동폭)이 최고가 보다 높을 경우 \"상승장\", 그렇지 않은 경우 \"하락장\" 문자열을 출력하라.\n",
    "\n",
    "|Key Name        |     Description|\n",
    "|---|---|\n",
    "|opeing_price    |최근 24시간 내 시작 거래금액|\n",
    "|closing_price   |최근 24시간 내 마지막 거래금액|\n",
    "|min_price       |최근 24시간 내 최저 거래금액|\n",
    "|max_price       |최근 24시간 내 최고 거래금액|"
   ]
  },
  {
   "cell_type": "code",
   "execution_count": null,
   "metadata": {},
   "outputs": [],
   "source": [
    "import requests\n",
    "btc = requests.get(\"https://api.bithumb.com/public/ticker/btc\").json()['data']\n",
    "print(btc)"
   ]
  },
  {
   "cell_type": "code",
   "execution_count": null,
   "metadata": {},
   "outputs": [],
   "source": [
    "# 아래에 코드를 작성하세요."
   ]
  },
  {
   "cell_type": "markdown",
   "metadata": {},
   "source": [
    "## 모든 가상화폐 시세 판단하기\n",
    "\n",
    "> currrency dictionary에 담겨있는 모든 가상화폐 거래내역을 바탕으로 출력하라.\n",
    ">\n",
    "> 예외 처리에 유의하세요.\n",
    "--- \n",
    "```\n",
    "예시 출력)\n",
    "BTC 상승장\n",
    "ETH 상승장\n",
    "DASH 상승장\n",
    "LTC 하락장\n",
    "ETC 하락장\n",
    "XRP 상승장\n",
    "BCH 상승장\n",
    "...\n",
    "```\n"
   ]
  },
  {
   "cell_type": "code",
   "execution_count": null,
   "metadata": {},
   "outputs": [],
   "source": [
    "currency = requests.get(\"https://api.bithumb.com/public/ticker/all\").json()['data']\n",
    "print(currency)"
   ]
  },
  {
   "cell_type": "code",
   "execution_count": null,
   "metadata": {},
   "outputs": [],
   "source": [
    "# 아래에 코드를 작성하세요."
   ]
  },
  {
   "cell_type": "markdown",
   "metadata": {},
   "source": [
    "# 모음 제거하기\n",
    "\n",
    "> 다음 문장의 모음을 제거하여 출력하세요.\n",
    "---\n",
    "```\n",
    "예시 입력)\n",
    "\"Life is too short, you need python\"\n",
    "```\n",
    "\n",
    "```\n",
    "예시 출력)\n",
    "Lf s t shrt, y nd pythn\n",
    "```"
   ]
  },
  {
   "cell_type": "code",
   "execution_count": 1,
   "metadata": {},
   "outputs": [
    {
     "ename": "SyntaxError",
     "evalue": "invalid syntax (<ipython-input-1-e3ae0d25898b>, line 4)",
     "output_type": "error",
     "traceback": [
      "\u001b[1;36m  File \u001b[1;32m\"<ipython-input-1-e3ae0d25898b>\"\u001b[1;36m, line \u001b[1;32m4\u001b[0m\n\u001b[1;33m    for c in range(0,len(a))\u001b[0m\n\u001b[1;37m                            ^\u001b[0m\n\u001b[1;31mSyntaxError\u001b[0m\u001b[1;31m:\u001b[0m invalid syntax\n"
     ]
    }
   ],
   "source": [
    "a = input()\n",
    "# 아래에 코드를 작성하세요.\n",
    "b = [\"a\",\"e\",\"i\",\"o\",\"u\"]\n",
    "for c in range(0,len(a))\n",
    "    for d in range(0,len(b))\n",
    "    c==d\n",
    "    \n",
    "    \n"
   ]
  },
  {
   "cell_type": "code",
   "execution_count": null,
   "metadata": {},
   "outputs": [],
   "source": []
  },
  {
   "cell_type": "code",
   "execution_count": 55,
   "metadata": {},
   "outputs": [
    {
     "name": "stdout",
     "output_type": "stream",
     "text": [
      "Lf s t shrt, y nd pythn\n"
     ]
    }
   ],
   "source": [
    "a = \"Life is too short, you need python\"\n",
    "result = \"\"\n",
    "for i in a:\n",
    "    if i == \"e\":\n",
    "        continue\n",
    "    elif i == \"i\":\n",
    "        continue\n",
    "    elif i == \"o\":\n",
    "        continue\n",
    "    elif i == \"u\":\n",
    "        continue\n",
    "    else:\n",
    "        result += i\n",
    "\n",
    "        \n",
    "print(result)"
   ]
  },
  {
   "cell_type": "code",
   "execution_count": 6,
   "metadata": {},
   "outputs": [
    {
     "name": "stdout",
     "output_type": "stream",
     "text": [
      "ch b gyn\n"
     ]
    }
   ],
   "source": [
    " a= \"choi bo gyun\"\n",
    "vowel = \"aeiou\"\n",
    "\n",
    "for spel in vowel:\n",
    "    a = a.replace(spel,\"\")  #새로운 함수를 쓴거/replace 안에 spel 에 a를 비어있는 함수로 바꾼다 / 즉 replace는 찾아바꾸기랑 같은 기능\n",
    "print(a)"
   ]
  },
  {
   "cell_type": "code",
   "execution_count": 8,
   "metadata": {
    "scrolled": true
   },
   "outputs": [
    {
     "ename": "SyntaxError",
     "evalue": "invalid syntax (<ipython-input-8-0822c48155cd>, line 2)",
     "output_type": "error",
     "traceback": [
      "\u001b[1;36m  File \u001b[1;32m\"<ipython-input-8-0822c48155cd>\"\u001b[1;36m, line \u001b[1;32m2\u001b[0m\n\u001b[1;33m    a = test.replace(test.\"\")\u001b[0m\n\u001b[1;37m                           ^\u001b[0m\n\u001b[1;31mSyntaxError\u001b[0m\u001b[1;31m:\u001b[0m invalid syntax\n"
     ]
    }
   ],
   "source": [
    "test = \"ee\"\n",
    "a = test.replace(test.\"\")\n",
    "\n",
    "\n",
    "\n",
    "print(a)"
   ]
  },
  {
   "cell_type": "code",
   "execution_count": 11,
   "metadata": {},
   "outputs": [
    {
     "name": "stdout",
     "output_type": "stream",
     "text": [
      "a\n",
      "b\n",
      "c\n",
      "d\n",
      "e\n",
      "f\n",
      "['a', 'b', 'c']\n",
      "['a', 'b', 'c']\n",
      "['a', 'b', 'c']\n",
      "0\n",
      "1\n",
      "2\n",
      "3\n",
      "4\n",
      "{1: 1, 2: 2}\n",
      "{1: 1, 2: 2}\n"
     ]
    }
   ],
   "source": [
    "a = \"abcdef\" #for문은 스트링 가능\n",
    "for i in a:\n",
    "    print(i)\n",
    "    \n",
    "b = [\"a\", \"b\", \"c\"] #리스트도 가능\n",
    "for i in b:\n",
    "    print(b)\n",
    "    \n",
    "c = range(5)\n",
    "for i in c:\n",
    "    print(i)\n",
    "    \n",
    "d = {1:1, 2:2}\n",
    "for i in d:\n",
    "    print(d)"
   ]
  },
  {
   "cell_type": "markdown",
   "metadata": {},
   "source": [
    "# 영어 이름 출력하기 \n",
    "\n",
    "> 영어 이름은 가운데 이름을 가지고 있는 경우가 있습니다.\n",
    ">\n",
    "> 가운데 이름은 축약해서 나타내는 함수를 작성해보세요.\n",
    "\n",
    "---\n",
    "```\n",
    "예시 입력)\n",
    "Alice Betty Catherine Davis\n",
    "```\n",
    "```\n",
    "예시 출력)\n",
    "Alice B. C. Davis\n",
    "```"
   ]
  },
  {
   "cell_type": "code",
   "execution_count": 12,
   "metadata": {},
   "outputs": [
    {
     "name": "stdout",
     "output_type": "stream",
     "text": [
      "이름을 입력하세요 : choi bo gyun\n",
      "choi b. gyun\n"
     ]
    }
   ],
   "source": [
    "#학생꺼 코드\n",
    "\n",
    "name = input(\"이름을 입력하세요 : \") #학\n",
    "# 아래에 코드를 작성하세요.\n",
    "\n",
    "cut_name = name.split() #splite은 공백을 기준으로 자른다\n",
    "rest = cut_name[1:-1] # -1은 맨자막을 향한다! 그러면 -2는 두번째 -3는 첫번쨰\n",
    "note = []\n",
    "for i in rest:\n",
    "    slices = i.replace(i[1:],\".\") #슬라이싱한테 [1:],\".\" 첫번째를 제외하고 나머지는 .으로 대체한다\n",
    "    note.append(slices)\n",
    "result = \" \".join(note)\n",
    "print(cut_name[0], result, cut_name[-1])"
   ]
  },
  {
   "cell_type": "code",
   "execution_count": null,
   "metadata": {},
   "outputs": [],
   "source": [
    "a = \"choi bo gyun\"\n",
    "l = a.split() #splite은 공백을 기준으로 자른다\n",
    "print(a)\n",
    "\n",
    "# l[0:-1] # -1은 맨자막을 향한다! 그러면 -2는 두번째 -3는 첫번쨰/ 그리고 콜론은 붙이는 것은 슬라이싱이라고 한다"
   ]
  },
  {
   "cell_type": "code",
   "execution_count": 16,
   "metadata": {},
   "outputs": [
    {
     "ename": "SyntaxError",
     "evalue": "invalid syntax (<ipython-input-16-f3a1988985f5>, line 8)",
     "output_type": "error",
     "traceback": [
      "\u001b[1;36m  File \u001b[1;32m\"<ipython-input-16-f3a1988985f5>\"\u001b[1;36m, line \u001b[1;32m8\u001b[0m\n\u001b[1;33m    for dix,word in enumerate names: #enumerate를 해서 돌려본다\u001b[0m\n\u001b[1;37m                                  ^\u001b[0m\n\u001b[1;31mSyntaxError\u001b[0m\u001b[1;31m:\u001b[0m invalid syntax\n"
     ]
    }
   ],
   "source": [
    "#샘꺼\n",
    "\n",
    "\n",
    "name= \"Choi Bo Gyun\"\n",
    "names = name.split()\n",
    "result = \"\"\n",
    "\n",
    "for dix,word in enumerate names: #enumerate를 해서 돌려본다\n",
    "#     print(idx) #숫자\n",
    "#     print(word) #실제 value값\n",
    "    if idx==0 or idx==len(names)-1: #마지막\n",
    "        result += word\n",
    "        else:\n",
    "            result +=name[0] + \".\"\n",
    "print(result)\n",
    "    "
   ]
  },
  {
   "cell_type": "code",
   "execution_count": null,
   "metadata": {},
   "outputs": [],
   "source": []
  },
  {
   "cell_type": "markdown",
   "metadata": {},
   "source": [
    "# 달력 출력하기\n",
    "\n",
    "> 1월 1일 월요일부터 12월 31일까지 달력을 출력하세요.\n",
    "\n",
    "---\n",
    "```\n",
    "예시 출력)\n",
    "         1 월\n",
    "Mo Tu We Th Fr Sa Su \n",
    " 1  2  3  4  5  6  7 \n",
    " 8  9 10 11 12 13 14 \n",
    "15 16 17 18 19 20 21 \n",
    "22 23 24 25 26 27 28 \n",
    "29 30 31 \n",
    "         2 월\n",
    "Mo Tu We Th Fr Sa Su \n",
    " 1  2  3  4  5  6  7 \n",
    " 8  9 10 11 12 13 14 \n",
    "15 16 17 18 19 20 21 \n",
    "22 23 24 25 26 27 28 \n",
    "\n",
    "         3 월\n",
    "Mo Tu We Th Fr Sa Su \n",
    " 1  2  3  4  5  6  7 \n",
    " 8  9 10 11 12 13 14 \n",
    "15 16 17 18 19 20 21 \n",
    "22 23 24 25 26 27 28 \n",
    "29 30 31 \n",
    "         4 월\n",
    "Mo Tu We Th Fr Sa Su \n",
    " 1  2  3  4  5  6  7 \n",
    " 8  9 10 11 12 13 14 \n",
    "15 16 17 18 19 20 21 \n",
    "22 23 24 25 26 27 28 \n",
    "29 30 \n",
    "```"
   ]
  },
  {
   "cell_type": "code",
   "execution_count": 54,
   "metadata": {},
   "outputs": [
    {
     "name": "stdout",
     "output_type": "stream",
     "text": [
      "         1 월\n",
      "MoTuWeThFrSaSu 1"
     ]
    },
    {
     "ename": "NameError",
     "evalue": "name 'count_week' is not defined",
     "output_type": "error",
     "traceback": [
      "\u001b[1;31m---------------------------------------------------------------------------\u001b[0m",
      "\u001b[1;31mNameError\u001b[0m                                 Traceback (most recent call last)",
      "\u001b[1;32m<ipython-input-54-863eb5459a7c>\u001b[0m in \u001b[0;36m<module>\u001b[1;34m\u001b[0m\n\u001b[0;32m     16\u001b[0m     \u001b[1;32mfor\u001b[0m \u001b[0mday\u001b[0m \u001b[1;32min\u001b[0m \u001b[0mrange\u001b[0m\u001b[1;33m(\u001b[0m\u001b[1;36m1\u001b[0m\u001b[1;33m,\u001b[0m\u001b[0mcount\u001b[0m\u001b[1;33m+\u001b[0m\u001b[1;36m1\u001b[0m\u001b[1;33m)\u001b[0m\u001b[1;33m:\u001b[0m \u001b[1;31m#1부터 31까지 하려면 +1\u001b[0m\u001b[1;33m\u001b[0m\u001b[1;33m\u001b[0m\u001b[0m\n\u001b[0;32m     17\u001b[0m         \u001b[0mprint\u001b[0m\u001b[1;33m(\u001b[0m\u001b[1;34mf\"{day:2}\"\u001b[0m\u001b[1;33m,\u001b[0m\u001b[0mend\u001b[0m\u001b[1;33m=\u001b[0m\u001b[1;34m\"\"\u001b[0m\u001b[1;33m)\u001b[0m\u001b[1;33m\u001b[0m\u001b[1;33m\u001b[0m\u001b[0m\n\u001b[1;32m---> 18\u001b[1;33m         \u001b[0mcount_week\u001b[0m \u001b[1;33m+=\u001b[0m \u001b[1;36m1\u001b[0m\u001b[1;33m\u001b[0m\u001b[1;33m\u001b[0m\u001b[0m\n\u001b[0m\u001b[0;32m     19\u001b[0m         \u001b[1;32mif\u001b[0m \u001b[0mcount_week\u001b[0m \u001b[1;33m==\u001b[0m\u001b[1;36m7\u001b[0m\u001b[1;33m:\u001b[0m\u001b[1;33m\u001b[0m\u001b[1;33m\u001b[0m\u001b[0m\n\u001b[0;32m     20\u001b[0m             \u001b[0mprint\u001b[0m\u001b[1;33m(\u001b[0m\u001b[1;33m)\u001b[0m\u001b[1;33m\u001b[0m\u001b[1;33m\u001b[0m\u001b[0m\n",
      "\u001b[1;31mNameError\u001b[0m: name 'count_week' is not defined"
     ]
    }
   ],
   "source": [
    "celender = {\n",
    "    1:31,2:28,3:31,4:30,5:31,6:30,\n",
    "    7:31,8:30,9:31,10:31,11:30,12:31\n",
    "}\n",
    "\n",
    "weeks = [\"Mo\" \"Tu\" \"We\" \"Th\" \"Fr\" \"Sa\" \"Su\"] #ctrl 눌러서 커서 클릭하면 한번에 \n",
    "\n",
    "count=0\n",
    "\n",
    "for month,count in celender.items(): \n",
    "    print(f\"{month:10} 월\")\n",
    "    \n",
    "    for week in weeks:  #나는 weeks 안에 있는 문자열을 돌린다\n",
    "        print(f\"{week}\",end=\"\")\n",
    "        \n",
    "    for day in range(1,count+1): #1부터 31까지 하려면 +1\n",
    "        print(f\"{day:2}\",end=\"\")\n",
    "        count += 1\n",
    "        if count_week ==7:\n",
    "            print()\n",
    "            count = 0\n",
    "    print(day)\n",
    "        "
   ]
  },
  {
   "cell_type": "code",
   "execution_count": null,
   "metadata": {},
   "outputs": [],
   "source": []
  }
 ],
 "metadata": {
  "kernelspec": {
   "display_name": "Python 3",
   "language": "python",
   "name": "python3"
  },
  "language_info": {
   "codemirror_mode": {
    "name": "ipython",
    "version": 3
   },
   "file_extension": ".py",
   "mimetype": "text/x-python",
   "name": "python",
   "nbconvert_exporter": "python",
   "pygments_lexer": "ipython3",
   "version": "3.6.7"
  },
  "toc": {
   "base_numbering": 1,
   "nav_menu": {},
   "number_sections": true,
   "sideBar": true,
   "skip_h1_title": false,
   "title_cell": "Table of Contents",
   "title_sidebar": "Contents",
   "toc_cell": false,
   "toc_position": {},
   "toc_section_display": true,
   "toc_window_display": false
  }
 },
 "nbformat": 4,
 "nbformat_minor": 2
}
