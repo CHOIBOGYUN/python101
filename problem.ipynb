{
 "cells": [
  {
   "cell_type": "markdown",
   "metadata": {},
   "source": [
    "- 두개의 정수 n,m이 주어집니다. 반목문을 사용하지 않고 가로가 n, 세로가 m인 *로 이루어진 사각형을 출력해주세요\n",
    "\n",
    "- 예시\n",
    "    - n : 5/ m :4\n",
    "    '''\n",
    "    *****\n",
    "    *****\n",
    "    *****\n",
    "    *****\n",
    "    ''''"
   ]
  },
  {
   "cell_type": "code",
   "execution_count": null,
   "metadata": {},
   "outputs": [],
   "source": []
  },
  {
   "cell_type": "markdown",
   "metadata": {},
   "source": [
    "- 다음 딕셔너리에서 평균 점수를 구하시오\n",
    "- student = {'python':80, 'algorithm':78, 'django':95, 'flask':80}\n"
   ]
  },
  {
   "cell_type": "code",
   "execution_count": 33,
   "metadata": {},
   "outputs": [
    {
     "name": "stdout",
     "output_type": "stream",
     "text": [
      "83.25\n"
     ]
    }
   ],
   "source": [
    "student = {\n",
    "    \"python\":80,\n",
    "    \"algorithm\":78,\n",
    "    'django':95, \n",
    "    'flask':80\n",
    "}\n",
    "a=0\n",
    "\n",
    "for score in student.values():\n",
    "#     print(student[score])\n",
    "    a=a+score\n",
    "print(a/len(student))\n",
    "\n",
    "# print(sum(student.values())/ len(student))\n",
    "# 참고용"
   ]
  },
  {
   "cell_type": "markdown",
   "metadata": {},
   "source": [
    "다음은 학생들의 혈액형(A,B,O,AB)에 대한 데이터 이다. \n",
    "for문을 활용하여 각 혈액형별 학생수를 구하세요 \n",
    "blood = ['A','B','O','A','B','A','AB','AB','O','A','O','AB','O'] \n"
   ]
  },
  {
   "cell_type": "code",
   "execution_count": 40,
   "metadata": {},
   "outputs": [
    {
     "ename": "IndentationError",
     "evalue": "expected an indented block (<ipython-input-40-fc6b9aa87dea>, line 9)",
     "output_type": "error",
     "traceback": [
      "\u001b[1;36m  File \u001b[1;32m\"<ipython-input-40-fc6b9aa87dea>\"\u001b[1;36m, line \u001b[1;32m9\u001b[0m\n\u001b[1;33m    else :\u001b[0m\n\u001b[1;37m       ^\u001b[0m\n\u001b[1;31mIndentationError\u001b[0m\u001b[1;31m:\u001b[0m expected an indented block\n"
     ]
    }
   ],
   "source": [
    " blood = ['A','B','O','A','B','A','AB','AB','O','A','O','AB','O'] \n",
    "\n",
    "blood_dic = {}\n",
    "\n",
    "for b in blood:\n",
    "    print(b)\n",
    "    if b in blood_dict:\n",
    "        \n",
    "    else :\n",
    "        blood_dict[b] = 1\n",
    "    \n",
    "    \n",
    "    "
   ]
  },
  {
   "cell_type": "markdown",
   "metadata": {},
   "source": [
    "# 상승장 ?하락장?"
   ]
  },
  {
   "cell_type": "code",
   "execution_count": 73,
   "metadata": {},
   "outputs": [
    {
     "name": "stdout",
     "output_type": "stream",
     "text": [
      "{'opening_price': '4262000', 'closing_price': '4321000', 'min_price': '4257000', 'max_price': '4379000', 'average_price': '4314072.2425', 'units_traded': '15840.35042517', 'volume_1day': '15840.35042517', 'volume_7day': '42900.61117412', 'buy_price': '4321000', 'sell_price': '4325000', '24H_fluctate': '59000', '24H_fluctate_rate': '1.38', 'date': '1546501906071'}\n",
      "122000\n",
      "상승장\n"
     ]
    }
   ],
   "source": [
    "import requests\n",
    "\n",
    "url = \"https://api.bithumb.com/public/ticker/btc\"\n",
    "data = requests.get(url).json()['data']\n",
    "print(data)\n",
    "\n",
    "# 변동폭 : 최고가와 최저가의 차이\n",
    "# 시가 : 시작가\n",
    "# 상승장 : 시가 + 변동폭 이 최고가 보다 높을 경우\n",
    "# 하락장 : 시가 + 변동폭 이 최고가 보다 낮을 경우\n",
    "# opening_price : 최근 24시간 내 시작 거래금액\n",
    "# closing_price : 최근 24시간 내 마지막 거래금액\n",
    "# min_price : 최근 24시간 내 최저 거래금액 \n",
    "# max_price : 최근 24시간 내 최고 거래금액 \n",
    "\n",
    "changes = int(data['max_price'])-int(data['min_price'])\n",
    "print(changes)\n",
    "\n",
    "start = int(data['opening_price'])\n",
    "\n",
    "if start + changes > int(data['max_price']):\n",
    "    print(\"상승장\")\n",
    "else:\n",
    "\n",
    "    print(\"하락장\")"
   ]
  },
  {
   "cell_type": "markdown",
   "metadata": {},
   "source": [
    "# 모든 코인 상증장? 하락장? 떡락??"
   ]
  },
  {
   "cell_type": "code",
   "execution_count": 76,
   "metadata": {},
   "outputs": [
    {
     "name": "stdout",
     "output_type": "stream",
     "text": [
      "122000.0\n",
      "BTC : 상승장\n",
      "12500.0\n",
      "ETH : 상승장\n",
      "5000.0\n",
      "DASH : 상승장\n",
      "1640.0\n",
      "LTC :하락장\n",
      "195.0\n",
      "ETC : 상승장\n",
      "17.0\n",
      "XRP :하락장\n",
      "15700.0\n",
      "BCH : 상승장\n",
      "6200.0\n",
      "XMR : 상승장\n",
      "4100.0\n",
      "ZEC :하락장\n",
      "137.0\n",
      "QTUM : 상승장\n",
      "730.0\n",
      "BTG :하락장\n",
      "238.0\n",
      "EOS : 상승장\n",
      "49.0\n",
      "ICX : 상승장\n",
      "0.2699999999999996\n",
      "VET : 상승장\n",
      "1.0\n",
      "TRX :하락장\n",
      "8.0\n",
      "ELF : 상승장\n",
      "4.400000000000006\n",
      "MITH : 상승장\n",
      "248.0\n",
      "MCO : 상승장\n",
      "93.0\n",
      "OMG : 상승장\n",
      "10.0\n",
      "KNC : 상승장\n",
      "3.200000000000003\n",
      "GNT : 상승장\n",
      "1.1999999999999993\n",
      "ZIL : 상승장\n",
      "91.0\n",
      "ETHOS : 상승장\n",
      "173.0\n",
      "PAY : 상승장\n",
      "7.0\n",
      "WAX : 상승장\n",
      "48.0\n",
      "POWR : 상승장\n",
      "42.0\n",
      "LRC : 상승장\n",
      "3.799999999999997\n",
      "GTO : 상승장\n",
      "119.0\n",
      "STEEM : 상승장\n",
      "222.0\n",
      "STRAT : 상승장\n",
      "12.0\n",
      "ZRX : 상승장\n",
      "5000.0\n",
      "REP : 상승장\n",
      "110.0\n",
      "AE : 상승장\n",
      "16.5\n",
      "XEM : 상승장\n",
      "7.0\n",
      "SNT : 상승장\n",
      "3.4000000000000057\n",
      "ADA : 상승장\n",
      "71.0\n",
      "PPT : 상승장\n",
      "9.0\n",
      "CTXC : 상승장\n",
      "5.700000000000003\n",
      "CMT : 상승장\n",
      "7.100000000000001\n",
      "THETA : 상승장\n",
      "103.0\n",
      "WTC : 상승장\n",
      "9.0\n",
      "ITC : 상승장\n",
      "57.0\n",
      "TRUE :하락장\n",
      "35.2\n",
      "ABT : 상승장\n",
      "84.1\n",
      "RNT :하락장\n",
      "4.399999999999999\n",
      "PLY : 상승장\n",
      "144.0\n",
      "WAVES : 상승장\n",
      "113.0\n",
      "LINK : 상승장\n",
      "2.299999999999997\n",
      "ENJ : 상승장\n",
      "15.0\n",
      "PST : 상승장\n",
      "24.0\n",
      "SALT : 상승장\n",
      "89.0\n",
      "RDN : 상승장\n",
      "9.299999999999997\n",
      "LOOM : 상승장\n",
      "35.0\n",
      "BHPC : 상승장\n",
      "61.0\n",
      "PIVX : 상승장\n",
      "62.0\n",
      "INS : 상승장\n",
      "34.0\n",
      "BCD : 상승장\n",
      "6.5\n",
      "BZNT : 상승장\n",
      "7.0\n",
      "XLM : 상승장\n",
      "0.17999999999999972\n",
      "OCN : 상승장\n",
      "6100.0\n",
      "BSV :하락장\n",
      "0.21000000000000085\n",
      "TMTG : 상승장\n",
      "8.0\n",
      "BAT : 상승장\n",
      "1.0\n",
      "WET : 상승장\n",
      "0.28000000000000025\n",
      "XVG : 상승장\n",
      "0.5199999999999996\n",
      "IOST : 상승장\n",
      "10.0\n",
      "POLY : 상승장\n",
      "100.0\n",
      "HC : 상승장\n",
      "0.020000000000000018\n",
      "ROM : 상승장\n",
      "0.18000000000000016\n",
      "AMO : 상승장\n"
     ]
    }
   ],
   "source": [
    "url = \"https://api.bithumb.com/public/ticker/all\"\n",
    "data = requests.get(url).json()['data']\n",
    "\n",
    "for name, value in data.items():\n",
    "    if type(value) == type(dict()):\n",
    "        # 상승장인지 하락장인지 확인하기!!\n",
    "        changes = float(value['max_price'])-float(value['min_price'])\n",
    "        print(changes)\n",
    "\n",
    "        start = float(value['opening_price'])\n",
    "\n",
    "        if start + changes > float(value['max_price']):\n",
    "            print(f\"{name} : 상승장\")\n",
    "        else:\n",
    "            print(f\"{name} :하락장\")\n",
    "    else:\n",
    "        #데이터가 없는 코인이기 때문에 다음으로 넘기기\n",
    "        continue\n",
    "        \n",
    "#     print(name)\n",
    "#     print(type(value))"
   ]
  }
 ],
 "metadata": {
  "kernelspec": {
   "display_name": "Python 3",
   "language": "python",
   "name": "python3"
  },
  "language_info": {
   "codemirror_mode": {
    "name": "ipython",
    "version": 3
   },
   "file_extension": ".py",
   "mimetype": "text/x-python",
   "name": "python",
   "nbconvert_exporter": "python",
   "pygments_lexer": "ipython3",
   "version": "3.6.7"
  }
 },
 "nbformat": 4,
 "nbformat_minor": 2
}
